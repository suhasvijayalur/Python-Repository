{
 "cells": [
  {
   "cell_type": "code",
   "execution_count": null,
   "metadata": {
    "collapsed": true
   },
   "outputs": [],
   "source": [
    "# Reference from: https://chrisalbon.com/machine-learning/make_simulated_data_for_regression.html"
   ]
  },
  {
   "cell_type": "code",
   "execution_count": 1,
   "metadata": {
    "collapsed": true
   },
   "outputs": [],
   "source": [
    "# Import required libraries\n",
    "import pandas as pd\n",
    "from sklearn.datasets import make_regression"
   ]
  },
  {
   "cell_type": "code",
   "execution_count": 2,
   "metadata": {
    "collapsed": true
   },
   "outputs": [],
   "source": [
    "# Create the dataset\n",
    "features, output, coef = make_regression(n_samples = 100,\n",
    "                                         n_features = 3,\n",
    "                                         n_informative = 2,\n",
    "                                         n_targets = 1,\n",
    "                                         noise = 0.0,\n",
    "                                         coef = True\n",
    "                                         ) "
   ]
  },
  {
   "cell_type": "code",
   "execution_count": 7,
   "metadata": {
    "collapsed": false
   },
   "outputs": [
    {
     "name": "stdout",
     "output_type": "stream",
     "text": [
      "(100L, 3L)\n",
      "(100L,)\n",
      "(3L,)\n"
     ]
    }
   ],
   "source": [
    "print features.shape\n",
    "print output.shape\n",
    "print coef.shape"
   ]
  },
  {
   "cell_type": "code",
   "execution_count": 9,
   "metadata": {
    "collapsed": true
   },
   "outputs": [],
   "source": [
    "df_features = pd.DataFrame(features)"
   ]
  },
  {
   "cell_type": "code",
   "execution_count": 11,
   "metadata": {
    "collapsed": true
   },
   "outputs": [],
   "source": [
    "df_reg = pd.DataFrame({'Output': output, \n",
    "                       'Feat_1': df_features[0],\n",
    "                       'Feat_2': df_features[1],\n",
    "                       'Feat_3': df_features[2]})"
   ]
  },
  {
   "cell_type": "code",
   "execution_count": 12,
   "metadata": {
    "collapsed": false
   },
   "outputs": [
    {
     "data": {
      "text/html": [
       "<div>\n",
       "<table border=\"1\" class=\"dataframe\">\n",
       "  <thead>\n",
       "    <tr style=\"text-align: right;\">\n",
       "      <th></th>\n",
       "      <th>Feat_1</th>\n",
       "      <th>Feat_2</th>\n",
       "      <th>Feat_3</th>\n",
       "      <th>Output</th>\n",
       "    </tr>\n",
       "  </thead>\n",
       "  <tbody>\n",
       "    <tr>\n",
       "      <th>0</th>\n",
       "      <td>-0.047715</td>\n",
       "      <td>-0.389574</td>\n",
       "      <td>1.210513</td>\n",
       "      <td>6.956298</td>\n",
       "    </tr>\n",
       "    <tr>\n",
       "      <th>1</th>\n",
       "      <td>-2.417063</td>\n",
       "      <td>0.776944</td>\n",
       "      <td>-0.471797</td>\n",
       "      <td>10.959325</td>\n",
       "    </tr>\n",
       "    <tr>\n",
       "      <th>2</th>\n",
       "      <td>-0.195337</td>\n",
       "      <td>-0.801291</td>\n",
       "      <td>1.211614</td>\n",
       "      <td>-2.033507</td>\n",
       "    </tr>\n",
       "    <tr>\n",
       "      <th>3</th>\n",
       "      <td>1.204578</td>\n",
       "      <td>1.319566</td>\n",
       "      <td>-0.556735</td>\n",
       "      <td>21.740092</td>\n",
       "    </tr>\n",
       "    <tr>\n",
       "      <th>4</th>\n",
       "      <td>-0.384706</td>\n",
       "      <td>-0.092790</td>\n",
       "      <td>-1.969323</td>\n",
       "      <td>-27.206273</td>\n",
       "    </tr>\n",
       "  </tbody>\n",
       "</table>\n",
       "</div>"
      ],
      "text/plain": [
       "     Feat_1    Feat_2    Feat_3     Output\n",
       "0 -0.047715 -0.389574  1.210513   6.956298\n",
       "1 -2.417063  0.776944 -0.471797  10.959325\n",
       "2 -0.195337 -0.801291  1.211614  -2.033507\n",
       "3  1.204578  1.319566 -0.556735  21.740092\n",
       "4 -0.384706 -0.092790 -1.969323 -27.206273"
      ]
     },
     "execution_count": 12,
     "metadata": {},
     "output_type": "execute_result"
    }
   ],
   "source": [
    "df_reg.head(n = 5)"
   ]
  },
  {
   "cell_type": "code",
   "execution_count": null,
   "metadata": {
    "collapsed": true
   },
   "outputs": [],
   "source": []
  }
 ],
 "metadata": {
  "kernelspec": {
   "display_name": "Python [Root]",
   "language": "python",
   "name": "Python [Root]"
  },
  "language_info": {
   "codemirror_mode": {
    "name": "ipython",
    "version": 2
   },
   "file_extension": ".py",
   "mimetype": "text/x-python",
   "name": "python",
   "nbconvert_exporter": "python",
   "pygments_lexer": "ipython2",
   "version": "2.7.12"
  }
 },
 "nbformat": 4,
 "nbformat_minor": 0
}
